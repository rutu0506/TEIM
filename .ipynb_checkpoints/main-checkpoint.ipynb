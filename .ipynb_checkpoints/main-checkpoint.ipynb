{
 "cells": [
  {
   "cell_type": "code",
   "execution_count": 15,
   "id": "c18d461d",
   "metadata": {},
   "outputs": [],
   "source": [
    "import pandas as pd\n",
    "import os\n",
    "import utils as ut\n",
    "import warnings\n",
    "warnings.filterwarnings(\"ignore\")"
   ]
  },
  {
   "cell_type": "code",
   "execution_count": 16,
   "id": "15103810",
   "metadata": {},
   "outputs": [],
   "source": [
    "input_path = 'input_data/'\n",
    "result_path = 'results/'\n",
    "\n",
    "input_excel_file = [(name[0], filename) for name in os.walk(input_path) for filename in name[2] if filename.endswith('.xlsx')]\n",
    "\n",
    "if len(input_excel_file) != 1:\n",
    "    raise ValueError('Please check input folder. Might be there are not any excel file or more than one excel file.')"
   ]
  },
  {
   "cell_type": "code",
   "execution_count": 17,
   "id": "7433367f",
   "metadata": {},
   "outputs": [],
   "source": [
    "active_generation_all = pd.read_excel(os.path.join(input_excel_file[0][0], input_excel_file[0][1]), sheet_name='Generation')\n",
    "wind_speed_all = pd.read_excel(os.path.join(input_excel_file[0][0], input_excel_file[0][1]), sheet_name='Wind_Speed')\n",
    "breakdown_all = pd.read_excel(os.path.join(input_excel_file[0][0], input_excel_file[0][1]), sheet_name='Breakdown')"
   ]
  },
  {
   "cell_type": "code",
   "execution_count": 18,
   "id": "73eb8efc",
   "metadata": {},
   "outputs": [
    {
     "name": "stdout",
     "output_type": "stream",
     "text": [
      "Generation\n",
      "Accuracy: 79.47\n",
      "---------------\n"
     ]
    },
    {
     "ename": "TypeError",
     "evalue": "save_excel() missing 1 required positional argument: 'folder'",
     "output_type": "error",
     "traceback": [
      "\u001b[1;31m---------------------------------------------------------------------------\u001b[0m",
      "\u001b[1;31mTypeError\u001b[0m                                 Traceback (most recent call last)",
      "\u001b[1;32m<ipython-input-18-6f6742e43245>\u001b[0m in \u001b[0;36m<module>\u001b[1;34m\u001b[0m\n\u001b[0;32m     47\u001b[0m \u001b[1;33m\u001b[0m\u001b[0m\n\u001b[0;32m     48\u001b[0m     \u001b[0mforecast_gen\u001b[0m \u001b[1;33m=\u001b[0m \u001b[0mut\u001b[0m\u001b[1;33m.\u001b[0m\u001b[0mrandomForest\u001b[0m\u001b[1;33m(\u001b[0m\u001b[0mactive_generation\u001b[0m\u001b[1;33m,\u001b[0m \u001b[1;34m'Generation'\u001b[0m\u001b[1;33m,\u001b[0m \u001b[1;36m12\u001b[0m\u001b[1;33m)\u001b[0m\u001b[1;33m\u001b[0m\u001b[1;33m\u001b[0m\u001b[0m\n\u001b[1;32m---> 49\u001b[1;33m     \u001b[0mut\u001b[0m\u001b[1;33m.\u001b[0m\u001b[0msave_excel\u001b[0m\u001b[1;33m(\u001b[0m\u001b[0mforecast_gen\u001b[0m\u001b[1;33m,\u001b[0m \u001b[1;34m'Generation'\u001b[0m\u001b[1;33m,\u001b[0m \u001b[0mloc_key\u001b[0m\u001b[1;33m,\u001b[0m \u001b[0mresult_path\u001b[0m \u001b[1;33m+\u001b[0m \u001b[0mloc_key\u001b[0m \u001b[1;33m+\u001b[0m \u001b[1;34m'/'\u001b[0m\u001b[1;33m)\u001b[0m\u001b[1;33m\u001b[0m\u001b[1;33m\u001b[0m\u001b[0m\n\u001b[0m\u001b[0;32m     50\u001b[0m     \u001b[0mut\u001b[0m\u001b[1;33m.\u001b[0m\u001b[0msave_plots\u001b[0m\u001b[1;33m(\u001b[0m\u001b[0mforecast_gen\u001b[0m\u001b[1;33m,\u001b[0m \u001b[1;34m'Generation'\u001b[0m\u001b[1;33m,\u001b[0m \u001b[1;36m12\u001b[0m\u001b[1;33m,\u001b[0m \u001b[0mloc_key\u001b[0m\u001b[1;33m,\u001b[0m \u001b[0mresult_path\u001b[0m \u001b[1;33m+\u001b[0m \u001b[0mloc_key\u001b[0m \u001b[1;33m+\u001b[0m \u001b[1;34m'/'\u001b[0m\u001b[1;33m)\u001b[0m\u001b[1;33m\u001b[0m\u001b[1;33m\u001b[0m\u001b[0m\n\u001b[0;32m     51\u001b[0m \u001b[1;33m\u001b[0m\u001b[0m\n",
      "\u001b[1;31mTypeError\u001b[0m: save_excel() missing 1 required positional argument: 'folder'"
     ]
    }
   ],
   "source": [
    "for loc_key in set(active_generation_all.reset_index()['Loc. No.']):\n",
    "\n",
    "    active_generation = active_generation_all[active_generation_all['Loc. No.'] == loc_key]\n",
    "    wind_speed = wind_speed_all[wind_speed_all['Turbine'] == loc_key]\n",
    "    breakdown_data = breakdown_all[breakdown_all['Loc. No.'] == loc_key]\n",
    "\n",
    "    if active_generation.shape[0] <= 365:\n",
    "        raise ValueError('Not Sufficient dataset to forecast.')\n",
    "        \n",
    "    if wind_speed.shape[0] <= 12:\n",
    "        raise ValueError('Not Sufficient dataset to forecast.')\n",
    "\n",
    "    if breakdown_data.shape[0] <= 365:\n",
    "        raise ValueError('Not Sufficient dataset to forecast.')\n",
    "\n",
    "    if not os.path.exists(result_path+loc_key):\n",
    "        os.mkdir(os.path.join(result_path, loc_key))\n",
    "\n",
    "    ###############################################\n",
    "\n",
    "    active_generation = active_generation.reset_index().rename(columns={'Daily Gen.(kWh)': 'Generation'})\n",
    "    active_generation.set_index('Date', inplace=True)\n",
    "    active_generation.set_index(pd.to_datetime(active_generation.index), inplace=True)\n",
    "    active_generation = active_generation['Generation'].resample('MS').sum()\n",
    "    active_generation = active_generation.fillna(' ')\n",
    "    active_generation = active_generation.reset_index()\n",
    "\n",
    "    wind_speed = wind_speed.reset_index().rename(columns={'period': 'Date', 'Wind\\nSpeed\\n(m/s)': 'Wind_Speed'})\n",
    "    wind_speed.set_index('Date', inplace=True)\n",
    "    wind_speed.set_index(pd.to_datetime(wind_speed.index), inplace=True)\n",
    "    wind_speed = wind_speed['Wind_Speed']\n",
    "    wind_speed = wind_speed.fillna(' ')\n",
    "    wind_speed = wind_speed.reset_index()\n",
    "\n",
    "    breakdown_data = breakdown_data.rename(columns={'Gen. Date': 'Date'})\n",
    "    breakdown_data['Date'] = pd.to_datetime(breakdown_data['Date'])\n",
    "\n",
    "    breakdown_GF = ut.extract_data(breakdown_data, 'GF')\n",
    "\n",
    "    breakdown_FM = ut.extract_data(breakdown_data, 'FM')\n",
    "\n",
    "    breakdown_S = ut.extract_data(breakdown_data, 'S')\n",
    "\n",
    "    breakdown_U = ut.extract_data(breakdown_data, 'U')\n",
    "\n",
    "    ################################################\n",
    "\n",
    "    forecast_gen = ut.randomForest(active_generation, 'Generation', 12)\n",
    "    ut.save_excel(forecast_gen, 'Generation', loc_key, result_path + loc_key + '/')\n",
    "    ut.save_plots(forecast_gen, 'Generation', 12, loc_key, result_path + loc_key + '/')\n",
    "\n",
    "    forecast_wind = ut.randomForest(wind_speed, 'Wind_Speed', 12)\n",
    "    ut.save_excel(forecast_wind, 'Wind_Speed', loc_key, result_path + loc_key + '/')\n",
    "    ut.save_plots(forecast_wind, 'Wind_Speed', 12, loc_key, result_path + loc_key + '/')\n",
    "\n",
    "    forecast_GF = ut.randomForest(breakdown_GF, 'GF', 365)\n",
    "    ut.save_excel(forecast_GF, 'GF', loc_key, result_path + loc_key + '/')\n",
    "    ut.save_plots(forecast_GF, 'GF', 365, loc_key, result_path + loc_key + '/')\n",
    "\n",
    "    forecast_FM = ut.randomForest(breakdown_FM, 'FM', 365)\n",
    "    ut.save_excel(forecast_FM, 'FM', loc_key, result_path + loc_key + '/')\n",
    "    ut.save_plots(forecast_FM, 'FM', 365, loc_key, result_path + loc_key + '/')\n",
    "\n",
    "    forecast_S = ut.randomForest(breakdown_S, 'S', 365)\n",
    "    ut.save_excel(forecast_S, 'S', loc_key, result_path + loc_key + '/')\n",
    "    ut.save_plots(forecast_S, 'S', 365, loc_key, result_path + loc_key + '/')\n",
    "\n",
    "    forecast_U = ut.randomForest(breakdown_U, 'U', 365)\n",
    "    ut.save_excel(forecast_U, 'U', loc_key, result_path + loc_key + '/')\n",
    "    ut.save_plots(forecast_U, 'U', 365, loc_key, result_path + loc_key + '/')\n",
    "    \n",
    "    forecast_generation_wind = pd.merge(forecast_gen, forecast_wind, on=\"Date\")\n",
    "    ut.save_excel(forecast_generation_wind, 'Generation & Wind Speed', loc_key, result_path + loc_key + '/')\n",
    "    \n",
    "    forecast_factors = pd.merge(forecast_GF, forecast_FM, on=\"Date\").merge(forecast_S, on=\"Date\").merge(forecast_U, on=\"Date\")\n",
    "    ut.save_excel(forest_factors, 'Forecast Breakdowns', loc_key, result_path + loc_key + '/')"
   ]
  },
  {
   "cell_type": "code",
   "execution_count": null,
   "id": "55cb50a8",
   "metadata": {},
   "outputs": [],
   "source": []
  }
 ],
 "metadata": {
  "kernelspec": {
   "display_name": "Python 3",
   "language": "python",
   "name": "python3"
  },
  "language_info": {
   "codemirror_mode": {
    "name": "ipython",
    "version": 3
   },
   "file_extension": ".py",
   "mimetype": "text/x-python",
   "name": "python",
   "nbconvert_exporter": "python",
   "pygments_lexer": "ipython3",
   "version": "3.8.8"
  }
 },
 "nbformat": 4,
 "nbformat_minor": 5
}
