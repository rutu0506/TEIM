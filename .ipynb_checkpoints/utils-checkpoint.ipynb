{
 "cells": [
  {
   "cell_type": "code",
   "execution_count": 11,
   "id": "b3711834",
   "metadata": {},
   "outputs": [],
   "source": [
    "import calendar\n",
    "from datetime import timedelta\n",
    "import numpy as np\n",
    "import xlsxwriter\n",
    "import pandas as pd\n",
    "import matplotlib.pyplot as plt\n",
    "from sklearn.ensemble import RandomForestRegressor\n",
    "from sklearn.metrics import accuracy_score\n",
    "import warnings\n",
    "warnings.filterwarnings(\"ignore\")"
   ]
  },
  {
   "cell_type": "code",
   "execution_count": 12,
   "id": "88f10eb6",
   "metadata": {},
   "outputs": [],
   "source": [
    "def get_factor(factor):\n",
    "    if factor in ['Generation', 'Wind_Speed']:\n",
    "        return True\n",
    "    return False"
   ]
  },
  {
   "cell_type": "code",
   "execution_count": 13,
   "id": "26fb2b36",
   "metadata": {},
   "outputs": [],
   "source": [
    "def extract_data(dataframe, factor):\n",
    "    dataframe = dataframe[['Date', factor]]\n",
    "    dataframe['Probability'] = [1.0 if x > 0 else 0.0 for x in dataframe[factor]]\n",
    "    dataframe = dataframe.drop([factor], axis=1)\n",
    "    dataframe = dataframe.rename(columns={'Probability': factor})\n",
    "    return dataframe"
   ]
  },
  {
   "cell_type": "code",
   "execution_count": 14,
   "id": "fbf8f911",
   "metadata": {},
   "outputs": [],
   "source": [
    "def add_dates(dataframe, factor, forecast_length):\n",
    "    end_point = len(dataframe)\n",
    "    df = pd.DataFrame(index=range(forecast_length), columns=range(2))\n",
    "    df.columns = ['Date', factor]\n",
    "    dataframe = dataframe.append(df)\n",
    "    dataframe = dataframe.reset_index(drop=True)\n",
    "    x = dataframe.at[end_point - 1, 'Date']\n",
    "    x = pd.to_datetime(x, format='%Y-%m-%d')\n",
    "    if get_factor(factor):\n",
    "        for i in range(forecast_length):\n",
    "            days_in_month = calendar.monthrange(x.year, x.month)[1]\n",
    "            x = dataframe.at[dataframe.index[end_point + i], 'Date'] = x + timedelta(days=days_in_month)\n",
    "    else:\n",
    "        for i in range(forecast_length):\n",
    "            dataframe.at[dataframe.index[end_point + i], 'Date'] = x + timedelta(days=i+1)\n",
    "    dataframe['Date'] = pd.to_datetime(dataframe['Date'], format='%Y-%m-%d')\n",
    "    dataframe['Month'] = dataframe['Date'].dt.month\n",
    "    dataframe['Day'] = dataframe['Date'].dt.day\n",
    "    return dataframe"
   ]
  },
  {
   "cell_type": "code",
   "execution_count": 15,
   "id": "61599469",
   "metadata": {},
   "outputs": [],
   "source": [
    "def find_accuracy(fit, dataframe, new_dataframe, factor, forecast_length):\n",
    "    df = new_dataframe[['Month', 'Day']]\n",
    "    prediction = fit.predict(df)\n",
    "\n",
    "    print(factor)\n",
    "\n",
    "    if get_factor(factor):\n",
    "        mape = []\n",
    "        for x in range(len(dataframe)):\n",
    "            temp = abs(dataframe.iloc[x][factor] - prediction[x]) / abs(dataframe.iloc[x][factor])\n",
    "            if temp < float('inf'):\n",
    "                mape.append(temp)\n",
    "        mape = np.mean(mape)\n",
    "        print('Accuracy:', (100 - (mape * 100)).__round__(2))\n",
    "    else:\n",
    "        print('Accuracy:', (accuracy_score(dataframe[factor], prediction[:-forecast_length].round()) * 100).__round__(2))\n",
    "\n",
    "    print('---------------')"
   ]
  },
  {
   "cell_type": "code",
   "execution_count": 16,
   "id": "b2333ecf",
   "metadata": {},
   "outputs": [],
   "source": [
    "def randomForest(dataframe, factor, forecast_length):\n",
    "    new_dataframe = add_dates(dataframe, factor, forecast_length)\n",
    "    new_dataframe = new_dataframe.reset_index(drop=True)\n",
    "\n",
    "    end_point = len(dataframe)\n",
    "    train = new_dataframe.loc[:end_point - 1, :]\n",
    "    train_x = train[['Month', 'Day']]\n",
    "    train_y = train[factor]\n",
    "\n",
    "    rfr = RandomForestRegressor(n_estimators=100, random_state=1)\n",
    "    fit = rfr.fit(train_x, train_y)\n",
    "\n",
    "    find_accuracy(fit, dataframe, new_dataframe, factor, forecast_length)\n",
    "\n",
    "    forecast_values = []\n",
    "    input_data = new_dataframe.loc[end_point:, ~new_dataframe.columns.isin(['Date', factor])]\n",
    "    prediction = fit.predict(input_data)\n",
    "\n",
    "    for i in range(end_point):\n",
    "        forecast_values.append(np.NAN)\n",
    "    for i in range(forecast_length):\n",
    "        forecast_values.append(prediction[i])\n",
    "\n",
    "    new_dataframe['forecast_'+factor] = forecast_values\n",
    "    new_dataframe = new_dataframe.drop(columns=['Day', 'Month'])\n",
    "    return new_dataframe"
   ]
  },
  {
   "cell_type": "code",
   "execution_count": 17,
   "id": "99942161",
   "metadata": {},
   "outputs": [],
   "source": [
    "def save_excel(excel_data, sheet_name, loc, folder):\n",
    "    excel_data = excel_data.fillna(' ')\n",
    "    workbook = xlsxwriter.Workbook(folder+loc+'_'+sheet_name+'.xlsx')\n",
    "    worksheet = workbook.add_worksheet(loc+'_'+sheet_name)\n",
    "    bold = workbook.add_format({'bold': 1})\n",
    "    \n",
    "    headings = list(excel_data.columns)\n",
    "    worksheet.write_row('A1', headings, bold)\n",
    "    date_format = workbook.add_format({'num_format': 'dd-mm-yyyy'})\n",
    "    \n",
    "    worksheet.write_column('A2', list(excel_data[column]), date_format)\n",
    "    \n",
    "    for i in range(1, len(headings)):\n",
    "        worksheet.write_column(chr(ord('A')+i)+'2', list(excel_data[headings[i]]))\n",
    "    \n",
    "    #headings = ['Date', sheet_name, 'forecast_'+sheet_name]\n",
    "    #worksheet.write_row('A1', headings, bold)\n",
    "    #date_format = workbook.add_format({'num_format': 'dd-mm-yyyy'})\n",
    "    #worksheet.write_column('A2', list(excel_data['Date']), date_format)\n",
    "    #worksheet.write_column('B2', list(excel_data[sheet_name]))\n",
    "    #worksheet.write_column('C2', list(excel_data['forecast_'+sheet_name]))\n",
    "    workbook.close()"
   ]
  },
  {
   "cell_type": "code",
   "execution_count": 18,
   "id": "8772171f",
   "metadata": {},
   "outputs": [],
   "source": [
    "def save_plots(excel_data, factor, forecast_length, loc, folder):\n",
    "    excel_data = excel_data.fillna(0.0)\n",
    "    plt.figure(figsize=(14, 4))\n",
    "    if get_factor(factor):\n",
    "        plt.plot(excel_data['Date'][:-forecast_length], excel_data[factor][:-forecast_length], color='blue')\n",
    "        plt.plot(excel_data['Date'][-forecast_length:], excel_data['forecast_' + factor][-forecast_length:], color='red')\n",
    "    else:\n",
    "        plt.bar(excel_data['Date'], excel_data[factor], color='blue')\n",
    "        plt.bar(excel_data['Date'], excel_data['forecast_'+factor], color='red')\n",
    "    plt.xlabel('Date')\n",
    "    plt.ylabel(factor)\n",
    "    plt.legend(['Actual', 'Forecast'])\n",
    "    plt.suptitle(loc + '_' + factor)\n",
    "    plt.savefig(folder+'{}_{}'.format(loc, factor) + '.png', bbox_inches='tight', pad_inches=0)\n",
    "    plt.show()\n",
    "    plt.close(\"all\")"
   ]
  },
  {
   "cell_type": "code",
   "execution_count": null,
   "id": "0a337c7b",
   "metadata": {},
   "outputs": [],
   "source": []
  }
 ],
 "metadata": {
  "kernelspec": {
   "display_name": "Python 3",
   "language": "python",
   "name": "python3"
  },
  "language_info": {
   "codemirror_mode": {
    "name": "ipython",
    "version": 3
   },
   "file_extension": ".py",
   "mimetype": "text/x-python",
   "name": "python",
   "nbconvert_exporter": "python",
   "pygments_lexer": "ipython3",
   "version": "3.8.8"
  }
 },
 "nbformat": 4,
 "nbformat_minor": 5
}
